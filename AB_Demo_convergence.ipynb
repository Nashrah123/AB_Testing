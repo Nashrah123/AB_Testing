{
 "cells": [
  {
   "cell_type": "code",
   "execution_count": 1,
   "metadata": {},
   "outputs": [
    {
     "ename": "ModuleNotFoundError",
     "evalue": "No module named 'bayesian_bandit'",
     "output_type": "error",
     "traceback": [
      "\u001b[1;31m---------------------------------------------------------------------------\u001b[0m",
      "\u001b[1;31mModuleNotFoundError\u001b[0m                       Traceback (most recent call last)",
      "\u001b[1;32m<ipython-input-1-b40e30689baf>\u001b[0m in \u001b[0;36m<module>\u001b[1;34m()\u001b[0m\n\u001b[0;32m      8\u001b[0m \u001b[1;32mimport\u001b[0m \u001b[0mmatplotlib\u001b[0m\u001b[1;33m.\u001b[0m\u001b[0mpyplot\u001b[0m \u001b[1;32mas\u001b[0m \u001b[0mplt\u001b[0m\u001b[1;33m\u001b[0m\u001b[0m\n\u001b[0;32m      9\u001b[0m \u001b[1;32mimport\u001b[0m \u001b[0mnumpy\u001b[0m \u001b[1;32mas\u001b[0m \u001b[0mnp\u001b[0m\u001b[1;33m\u001b[0m\u001b[0m\n\u001b[1;32m---> 10\u001b[1;33m \u001b[1;32mfrom\u001b[0m \u001b[0mbayesian_bandit\u001b[0m \u001b[1;32mimport\u001b[0m \u001b[0mBandit\u001b[0m\u001b[1;33m\u001b[0m\u001b[0m\n\u001b[0m",
      "\u001b[1;31mModuleNotFoundError\u001b[0m: No module named 'bayesian_bandit'"
     ]
    }
   ],
   "source": [
    "# From the course: Bayesin Machine Learning in Python: A/B Testing\n",
    "# https://deeplearningcourses.com/c/bayesian-machine-learning-in-python-ab-testing\n",
    "# https://www.udemy.com/bayesian-machine-learning-in-python-ab-testing\n",
    "from __future__ import print_function, division\n",
    "from builtins import range\n",
    "# Note: you may need to update your version of future\n",
    "# sudo pip install -U future\n",
    "import matplotlib.pyplot as plt\n",
    "import numpy as np\n",
    "from bayesian_bandit import Bandit"
   ]
  },
  {
   "cell_type": "code",
   "execution_count": null,
   "metadata": {},
   "outputs": [],
   "source": [
    "def run_experiment(p1, p2, p3, N):\n",
    "  bandits = [Bandit(p1), Bandit(p2), Bandit(p3)]\n",
    "\n",
    "  data = np.empty(N)\n",
    "  \n",
    "  for i in range(N):\n",
    "    # thompson sampling\n",
    "    j = np.argmax([b.sample() for b in bandits])\n",
    "    x = bandits[j].pull()\n",
    "    bandits[j].update(x)\n",
    "\n",
    "    # for the plot\n",
    "    data[i] = x\n",
    "  cumulative_average_ctr = np.cumsum(data) / (np.arange(N) + 1)\n",
    "\n",
    "  # plot moving average ctr\n",
    "  plt.plot(cumulative_average_ctr)\n",
    "  plt.plot(np.ones(N)*p1)\n",
    "  plt.plot(np.ones(N)*p2)\n",
    "  plt.plot(np.ones(N)*p3)\n",
    "  plt.ylim((0,1))\n",
    "  plt.xscale('log')\n",
    "  plt.show()"
   ]
  },
  {
   "cell_type": "code",
   "execution_count": null,
   "metadata": {},
   "outputs": [],
   "source": [
    "run_experiment(0.2, 0.25, 0.3, 100000)"
   ]
  }
 ],
 "metadata": {
  "kernelspec": {
   "display_name": "Python 3",
   "language": "python",
   "name": "python3"
  },
  "language_info": {
   "codemirror_mode": {
    "name": "ipython",
    "version": 3
   },
   "file_extension": ".py",
   "mimetype": "text/x-python",
   "name": "python",
   "nbconvert_exporter": "python",
   "pygments_lexer": "ipython3",
   "version": "3.6.4"
  }
 },
 "nbformat": 4,
 "nbformat_minor": 2
}
